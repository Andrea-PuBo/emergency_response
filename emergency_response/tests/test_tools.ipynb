{
 "cells": [
  {
   "cell_type": "code",
   "id": "initial_id",
   "metadata": {
    "collapsed": true,
    "ExecuteTime": {
     "end_time": "2025-01-22T15:58:23.989397Z",
     "start_time": "2025-01-22T15:58:23.834582Z"
    }
   },
   "source": [
    "# Import necessary modules\n",
    "from crewai_tools import FileReadTool"
   ],
   "outputs": [],
   "execution_count": 6
  },
  {
   "metadata": {
    "ExecuteTime": {
     "end_time": "2025-01-22T15:58:40.215542Z",
     "start_time": "2025-01-22T15:58:40.150891Z"
    }
   },
   "cell_type": "code",
   "source": [
    "# Initialize FileReadTool\n",
    "file_reader = FileReadTool()"
   ],
   "id": "e49aa7815b322168",
   "outputs": [],
   "execution_count": 7
  },
  {
   "metadata": {
    "ExecuteTime": {
     "end_time": "2025-01-22T15:58:41.332094Z",
     "start_time": "2025-01-22T15:58:41.263011Z"
    }
   },
   "cell_type": "code",
   "source": [
    "# Path to the MDX file\n",
    "mdx_path = \"../Data/emergency_01.mdx\"\n",
    "\n",
    "# Read the MDX file\n",
    "try:\n",
    "    file_content = file_reader.run(file_path=mdx_path)\n",
    "    print(\"MDX File Content:\\n\", file_content)\n",
    "except Exception as e:\n",
    "    print(f\"Error reading MDX file: {e}\")"
   ],
   "id": "be3d3c5e0d5985fb",
   "outputs": [
    {
     "name": "stdout",
     "output_type": "stream",
     "text": [
      "Using Tool: Read a file's content\n",
      "MDX File Content:\n",
      " # EMERGENCY REPORT\n",
      "\n",
      "**Report ID:** ER001\n",
      "**Date/Time:** February 20, 2023 - 14:30:00\n",
      "\n",
      "## INCIDENT SUMMARY\n",
      "\n",
      "A commercial building fire has occurred at location:\n",
      "\n",
      "1.23847, 41.11700 (X, Y Coordinates)\n",
      "\n",
      "The incident is reported to be a fully engulfed fire in the multi-story office complex located at the specified coordinates.\n",
      "\n",
      "## FIRE DETAILS\n",
      "\n",
      "* **Fire Type:** Ordinary\n",
      "* **Number of Injured People:** 5\n",
      "* **Fire Severity:** High\n",
      "* **Estimated Fire Size:** 3 stories x 40 m\n",
      "* **Fire Spread:** The fire is spreading rapidly due to the presence of flammable materials\n",
      "\n",
      "## RESPONSE DETAILS\n",
      "\n",
      "**Emergency Services Requested:** Yes, by building management at 14:25:00\n",
      "\n",
      "## SITUATION STATUS\n",
      "\n",
      "The situation is considered unstable and critical. The fire is spreading rapidly, and there are reports of people trapped inside the building.\n",
      "\n"
     ]
    }
   ],
   "execution_count": 8
  },
  {
   "metadata": {
    "ExecuteTime": {
     "end_time": "2025-01-22T15:58:47.238636Z",
     "start_time": "2025-01-22T15:58:46.766121Z"
    }
   },
   "cell_type": "code",
   "source": [
    "from emergency_response.src.emergency_response.crews.emergency_crew.schemas.emergency_schemas import EmergencyDetails\n",
    "# Parse the content\n",
    "fire_details = {}\n",
    "lines = file_content.splitlines()\n",
    "for line in lines:\n",
    "    line = line.strip()\n",
    "    if \"Fire Type:\" in line:\n",
    "        fire_details[\"fire_type\"] = line.split(\":\")[1].strip().lstrip(\"*\")\n",
    "    elif \"X, Y Coordinates\" in line:\n",
    "        coords = line.split(\"(\")[0].strip()\n",
    "        fire_details[\"x_location\"], fire_details[\"y_location\"] = map(float, coords.split(\",\"))\n",
    "    elif \"Number of Injured People:\" in line:\n",
    "        # Clean the value by removing `**` and extra spaces\n",
    "        fire_details[\"injured_people\"] = int(line.split(\":\")[1].strip().lstrip(\"*\"))\n",
    "    elif \"Fire Severity:\" in line:\n",
    "        fire_details[\"severity\"] = line.split(\":\")[1].strip().lstrip(\"*\")\n",
    "\n",
    "# Validate and store details using the EmergencyDetails schema\n",
    "try:\n",
    "    validated_details = EmergencyDetails(**fire_details)\n",
    "    print(f\"Validated Emergency Details: {validated_details}\")\n",
    "except Exception as e:\n",
    "    print(f\"Error validating emergency details: {e}\")"
   ],
   "id": "447258a5db756359",
   "outputs": [
    {
     "name": "stdout",
     "output_type": "stream",
     "text": [
      "Validated Emergency Details: fire_type=' Ordinary' x_location=1.23847 y_location=41.117 injured_people=5 severity=' High'\n"
     ]
    }
   ],
   "execution_count": 9
  },
  {
   "metadata": {
    "ExecuteTime": {
     "end_time": "2025-01-22T16:44:13.726734Z",
     "start_time": "2025-01-22T16:43:54.779652Z"
    }
   },
   "cell_type": "code",
   "source": [
    "# Import the tool\n",
    "from emergency_response.src.emergency_response.tools.route_distance_tool import RouteDistanceTool\n",
    "# Initialize the tool\n",
    "tool = RouteDistanceTool()\n",
    "\n",
    "print(\"Tool initialized successfully!\")"
   ],
   "id": "267ccf161267a0b6",
   "outputs": [
    {
     "name": "stdout",
     "output_type": "stream",
     "text": [
      "Tool initialized successfully!\n"
     ]
    }
   ],
   "execution_count": 1
  },
  {
   "metadata": {
    "ExecuteTime": {
     "end_time": "2025-01-22T16:45:15.561364Z",
     "start_time": "2025-01-22T16:45:15.203174Z"
    }
   },
   "cell_type": "code",
   "source": "tool.run({'x_origin': 1.238993, 'y_origin': 41.123784, 'x_destination': 1.254389, 'y_destination': 41.120515})",
   "id": "ca209757f5535895",
   "outputs": [
    {
     "name": "stdout",
     "output_type": "stream",
     "text": [
      "Using Tool: Route distance calculator\n"
     ]
    },
    {
     "data": {
      "text/plain": [
       "1906"
      ]
     },
     "execution_count": 2,
     "metadata": {},
     "output_type": "execute_result"
    }
   ],
   "execution_count": 2
  },
  {
   "metadata": {
    "ExecuteTime": {
     "end_time": "2025-01-23T14:04:51.908284Z",
     "start_time": "2025-01-23T14:04:51.785243Z"
    }
   },
   "cell_type": "code",
   "source": [
    "# Import the tool\n",
    "from emergency_response.src.emergency_response.tools.mdx_parser_tool import MDXParserTool\n",
    "\n",
    "# Initialize the parser\n",
    "parser = MDXParserTool()\n",
    "\n",
    "# Parse the default MDX file\n",
    "try:\n",
    "    fire_details = parser._run()\n",
    "    print(f\"Parsed Fire Details: {fire_details}\")\n",
    "except Exception as e:\n",
    "    print(f\"Error: {e}\")"
   ],
   "id": "7d3e7b31caf82f80",
   "outputs": [
    {
     "name": "stdout",
     "output_type": "stream",
     "text": [
      "Parsed Fire Details: {'fire_type': 'Ordinary', 'x_location': 1.23847, 'y_location': 41.117, 'injured_people': 5, 'severity': 'High'}\n"
     ]
    }
   ],
   "execution_count": 3
  },
  {
   "metadata": {
    "ExecuteTime": {
     "end_time": "2025-01-22T19:21:57.636544Z",
     "start_time": "2025-01-22T19:21:57.625301Z"
    }
   },
   "cell_type": "code",
   "source": [
    "from emergency_response.src.emergency_response.tools.json_parser_tool import JSONParserTool\n",
    "\n",
    "parser = JSONParserTool()\n",
    "\n",
    "try:\n",
    "    hospitals = parser.parse_hospitals()\n",
    "    print(\"Parsed Hospitals:\", hospitals)\n",
    "except Exception as e:\n",
    "    print(f\"Error: {e}\")"
   ],
   "id": "25f07b6885ad1208",
   "outputs": [
    {
     "name": "stdout",
     "output_type": "stream",
     "text": [
      "Parsed Hospitals: [{'id': 'HSP-001', 'x_coordinate': 1.23858, 'y_coordinate': 41.12443}, {'id': 'HSP-002', 'x_coordinate': 1.2515, 'y_coordinate': 41.11871}, {'id': 'HSP-003', 'x_coordinate': 1.25472, 'y_coordinate': 41.11622}, {'id': 'HSP-004', 'x_coordinate': 1.26381, 'y_coordinate': 41.12136}]\n"
     ]
    }
   ],
   "execution_count": 2
  },
  {
   "metadata": {
    "ExecuteTime": {
     "end_time": "2025-01-22T19:21:59.640453Z",
     "start_time": "2025-01-22T19:21:59.628930Z"
    }
   },
   "cell_type": "code",
   "source": [
    "parser = JSONParserTool()\n",
    "\n",
    "try:\n",
    "    fire_trucks = parser.parse_fire_trucks()\n",
    "    print(\"Parsed FireTrucks:\", fire_trucks)\n",
    "except Exception as e:\n",
    "    print(f\"Error: {e}\")\n"
   ],
   "id": "f10ae006fb80a4ee",
   "outputs": [
    {
     "name": "stdout",
     "output_type": "stream",
     "text": [
      "Parsed FireTrucks: [{'id': 'FT-1', 'x_coordinate': 1.24058, 'y_coordinate': 41.10906}, {'id': 'FT-2', 'x_coordinate': 1.25444, 'y_coordinate': 41.11882}, {'id': 'FT-3', 'x_coordinate': 1.24439, 'y_coordinate': 41.13109}, {'id': 'FT-4', 'x_coordinate': 1.23736, 'y_coordinate': 41.12652}, {'id': 'FT-5', 'x_coordinate': 1.27684, 'y_coordinate': 41.12217}, {'id': 'FT-6', 'x_coordinate': 1.25276, 'y_coordinate': 41.13616}, {'id': 'FT-7', 'x_coordinate': 1.24482, 'y_coordinate': 41.11877}, {'id': 'FT-8', 'x_coordinate': 1.2477, 'y_coordinate': 41.11067}]\n"
     ]
    }
   ],
   "execution_count": 3
  },
  {
   "metadata": {
    "ExecuteTime": {
     "end_time": "2025-01-23T12:35:46.224968Z",
     "start_time": "2025-01-23T12:35:37.290653Z"
    }
   },
   "cell_type": "code",
   "source": [
    "from emergency_response.src.emergency_response.tools.json_parser_tool import JSONParserTool\n",
    "fire_trucks_tool = JSONParserTool(json_file_type=\"fire_trucks\")\n",
    "fire_trucks = fire_trucks_tool._run()\n",
    "print(fire_trucks)"
   ],
   "id": "dd409420212829e1",
   "outputs": [
    {
     "name": "stderr",
     "output_type": "stream",
     "text": [
      "C:\\Users\\apujals\\AppData\\Local\\miniconda3\\envs\\mas\\Lib\\site-packages\\pydantic\\_internal\\_config.py:345: UserWarning: Valid config keys have changed in V2:\n",
      "* 'fields' has been removed\n",
      "  warnings.warn(message, UserWarning)\n"
     ]
    },
    {
     "name": "stdout",
     "output_type": "stream",
     "text": [
      "[{'id': 'FT-1', 'X_coordinate': 1.24058, 'Y_coordinate': 41.10906}, {'id': 'FT-2', 'X_coordinate': 1.25444, 'Y_coordinate': 41.11882}, {'id': 'FT-3', 'X_coordinate': 1.24439, 'Y_coordinate': 41.13109}, {'id': 'FT-4', 'X_coordinate': 1.23736, 'Y_coordinate': 41.12652}, {'id': 'FT-5', 'X_coordinate': 1.27684, 'Y_coordinate': 41.12217}, {'id': 'FT-6', 'X_coordinate': 1.25276, 'Y_coordinate': 41.13616}, {'id': 'FT-7', 'X_coordinate': 1.24482, 'Y_coordinate': 41.11877}, {'id': 'FT-8', 'X_coordinate': 1.2477, 'Y_coordinate': 41.11067}]\n"
     ]
    }
   ],
   "execution_count": 1
  },
  {
   "metadata": {
    "ExecuteTime": {
     "end_time": "2025-01-23T12:37:00.846873Z",
     "start_time": "2025-01-23T12:37:00.825802Z"
    }
   },
   "cell_type": "code",
   "source": [
    "hospitals_tool = JSONParserTool(json_file_type=\"hospitals\")\n",
    "hospitals = hospitals_tool._run()\n",
    "print(hospitals)"
   ],
   "id": "52a4a07554143eea",
   "outputs": [
    {
     "name": "stdout",
     "output_type": "stream",
     "text": [
      "[{'id': 'HSP-001', 'X_coordinate': 1.23858, 'Y_coordinate': 41.12443}, {'id': 'HSP-002', 'X_coordinate': 1.2515, 'Y_coordinate': 41.11871}, {'id': 'HSP-003', 'X_coordinate': 1.25472, 'Y_coordinate': 41.11622}, {'id': 'HSP-004', 'X_coordinate': 1.26381, 'Y_coordinate': 41.12136}]\n"
     ]
    }
   ],
   "execution_count": 2
  }
 ],
 "metadata": {
  "kernelspec": {
   "display_name": "Python 3",
   "language": "python",
   "name": "python3"
  },
  "language_info": {
   "codemirror_mode": {
    "name": "ipython",
    "version": 2
   },
   "file_extension": ".py",
   "mimetype": "text/x-python",
   "name": "python",
   "nbconvert_exporter": "python",
   "pygments_lexer": "ipython2",
   "version": "2.7.6"
  }
 },
 "nbformat": 4,
 "nbformat_minor": 5
}
